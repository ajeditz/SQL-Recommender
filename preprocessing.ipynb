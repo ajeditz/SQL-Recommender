{
 "cells": [
  {
   "cell_type": "code",
   "execution_count": 9,
   "metadata": {},
   "outputs": [
    {
     "name": "stdout",
     "output_type": "stream",
     "text": [
      "Requirement already satisfied: pandas in ./.venv/lib/python3.12/site-packages (2.2.3)\n",
      "Requirement already satisfied: numpy>=1.26.0 in ./.venv/lib/python3.12/site-packages (from pandas) (2.2.0)\n",
      "Requirement already satisfied: python-dateutil>=2.8.2 in ./.venv/lib/python3.12/site-packages (from pandas) (2.9.0.post0)\n",
      "Requirement already satisfied: pytz>=2020.1 in ./.venv/lib/python3.12/site-packages (from pandas) (2024.2)\n",
      "Requirement already satisfied: tzdata>=2022.7 in ./.venv/lib/python3.12/site-packages (from pandas) (2024.2)\n",
      "Requirement already satisfied: six>=1.5 in ./.venv/lib/python3.12/site-packages (from python-dateutil>=2.8.2->pandas) (1.17.0)\n",
      "Note: you may need to restart the kernel to use updated packages.\n"
     ]
    }
   ],
   "source": [
    "%pip install pandas"
   ]
  },
  {
   "cell_type": "code",
   "execution_count": 10,
   "metadata": {},
   "outputs": [],
   "source": [
    "import pandas as pd"
   ]
  },
  {
   "cell_type": "code",
   "execution_count": 11,
   "metadata": {},
   "outputs": [],
   "source": [
    "df=pd.read_csv(\"user_followers_following_cached.csv\")"
   ]
  },
  {
   "cell_type": "code",
   "execution_count": 12,
   "metadata": {},
   "outputs": [
    {
     "data": {
      "text/html": [
       "<div>\n",
       "<style scoped>\n",
       "    .dataframe tbody tr th:only-of-type {\n",
       "        vertical-align: middle;\n",
       "    }\n",
       "\n",
       "    .dataframe tbody tr th {\n",
       "        vertical-align: top;\n",
       "    }\n",
       "\n",
       "    .dataframe thead th {\n",
       "        text-align: right;\n",
       "    }\n",
       "</style>\n",
       "<table border=\"1\" class=\"dataframe\">\n",
       "  <thead>\n",
       "    <tr style=\"text-align: right;\">\n",
       "      <th></th>\n",
       "      <th>user_id</th>\n",
       "      <th>bio</th>\n",
       "      <th>gender</th>\n",
       "      <th>country_id</th>\n",
       "      <th>state_id</th>\n",
       "      <th>city_id</th>\n",
       "      <th>following</th>\n",
       "      <th>followers</th>\n",
       "      <th>interest_categories</th>\n",
       "      <th>connections</th>\n",
       "      <th>updated_at</th>\n",
       "    </tr>\n",
       "  </thead>\n",
       "  <tbody>\n",
       "    <tr>\n",
       "      <th>0</th>\n",
       "      <td>1</td>\n",
       "      <td>NaN</td>\n",
       "      <td>male</td>\n",
       "      <td>161.0</td>\n",
       "      <td>306.0</td>\n",
       "      <td>77002.0</td>\n",
       "      <td>1, 78, 426, 584, 726, 743</td>\n",
       "      <td>1, 66, 78, 114, 171, 528, 584, 705</td>\n",
       "      <td>Car Enthusiasts, Music and Instrumental, Web D...</td>\n",
       "      <td>1, 78, 426, 584, 726, 743, 1, 66, 78, 114, 171...</td>\n",
       "      <td>2025-02-05 14:57:05</td>\n",
       "    </tr>\n",
       "    <tr>\n",
       "      <th>1</th>\n",
       "      <td>2</td>\n",
       "      <td>NaN</td>\n",
       "      <td>NaN</td>\n",
       "      <td>NaN</td>\n",
       "      <td>NaN</td>\n",
       "      <td>NaN</td>\n",
       "      <td>NaN</td>\n",
       "      <td>66, 584</td>\n",
       "      <td>NaN</td>\n",
       "      <td>66, 584</td>\n",
       "      <td>2025-01-09 09:23:32</td>\n",
       "    </tr>\n",
       "    <tr>\n",
       "      <th>2</th>\n",
       "      <td>3</td>\n",
       "      <td>NaN</td>\n",
       "      <td>male</td>\n",
       "      <td>161.0</td>\n",
       "      <td>306.0</td>\n",
       "      <td>76932.0</td>\n",
       "      <td>NaN</td>\n",
       "      <td>470</td>\n",
       "      <td>NaN</td>\n",
       "      <td>470</td>\n",
       "      <td>2025-01-09 09:23:32</td>\n",
       "    </tr>\n",
       "    <tr>\n",
       "      <th>3</th>\n",
       "      <td>4</td>\n",
       "      <td>NaN</td>\n",
       "      <td>NaN</td>\n",
       "      <td>NaN</td>\n",
       "      <td>NaN</td>\n",
       "      <td>NaN</td>\n",
       "      <td>NaN</td>\n",
       "      <td>66, 171</td>\n",
       "      <td>NaN</td>\n",
       "      <td>66, 171</td>\n",
       "      <td>2025-01-09 09:23:32</td>\n",
       "    </tr>\n",
       "    <tr>\n",
       "      <th>4</th>\n",
       "      <td>7</td>\n",
       "      <td>Why am I not yet a fucking Genius?</td>\n",
       "      <td>male</td>\n",
       "      <td>161.0</td>\n",
       "      <td>306.0</td>\n",
       "      <td>1.0</td>\n",
       "      <td>49, 66, 75</td>\n",
       "      <td>75, 79, 81, 90, 91, 93, 97, 98, 102, 114, 133,...</td>\n",
       "      <td>Visual Arts</td>\n",
       "      <td>49, 66, 75, 75, 79, 81, 90, 91, 93, 97, 98, 10...</td>\n",
       "      <td>2025-01-09 09:23:32</td>\n",
       "    </tr>\n",
       "  </tbody>\n",
       "</table>\n",
       "</div>"
      ],
      "text/plain": [
       "   user_id                                 bio gender  country_id  state_id  \\\n",
       "0        1                                 NaN   male       161.0     306.0   \n",
       "1        2                                 NaN    NaN         NaN       NaN   \n",
       "2        3                                 NaN   male       161.0     306.0   \n",
       "3        4                                 NaN    NaN         NaN       NaN   \n",
       "4        7  Why am I not yet a fucking Genius?   male       161.0     306.0   \n",
       "\n",
       "   city_id                  following  \\\n",
       "0  77002.0  1, 78, 426, 584, 726, 743   \n",
       "1      NaN                        NaN   \n",
       "2  76932.0                        NaN   \n",
       "3      NaN                        NaN   \n",
       "4      1.0                 49, 66, 75   \n",
       "\n",
       "                                           followers  \\\n",
       "0                 1, 66, 78, 114, 171, 528, 584, 705   \n",
       "1                                            66, 584   \n",
       "2                                                470   \n",
       "3                                            66, 171   \n",
       "4  75, 79, 81, 90, 91, 93, 97, 98, 102, 114, 133,...   \n",
       "\n",
       "                                 interest_categories  \\\n",
       "0  Car Enthusiasts, Music and Instrumental, Web D...   \n",
       "1                                                NaN   \n",
       "2                                                NaN   \n",
       "3                                                NaN   \n",
       "4                                        Visual Arts   \n",
       "\n",
       "                                         connections           updated_at  \n",
       "0  1, 78, 426, 584, 726, 743, 1, 66, 78, 114, 171...  2025-02-05 14:57:05  \n",
       "1                                            66, 584  2025-01-09 09:23:32  \n",
       "2                                                470  2025-01-09 09:23:32  \n",
       "3                                            66, 171  2025-01-09 09:23:32  \n",
       "4  49, 66, 75, 75, 79, 81, 90, 91, 93, 97, 98, 10...  2025-01-09 09:23:32  "
      ]
     },
     "execution_count": 12,
     "metadata": {},
     "output_type": "execute_result"
    }
   ],
   "source": [
    "df.head()"
   ]
  },
  {
   "cell_type": "code",
   "execution_count": 13,
   "metadata": {},
   "outputs": [
    {
     "name": "stdout",
     "output_type": "stream",
     "text": [
      "<class 'pandas.core.frame.DataFrame'>\n",
      "RangeIndex: 287 entries, 0 to 286\n",
      "Data columns (total 11 columns):\n",
      " #   Column               Non-Null Count  Dtype  \n",
      "---  ------               --------------  -----  \n",
      " 0   user_id              287 non-null    int64  \n",
      " 1   bio                  49 non-null     object \n",
      " 2   gender               251 non-null    object \n",
      " 3   country_id           251 non-null    float64\n",
      " 4   state_id             251 non-null    float64\n",
      " 5   city_id              251 non-null    float64\n",
      " 6   following            250 non-null    object \n",
      " 7   followers            234 non-null    object \n",
      " 8   interest_categories  243 non-null    object \n",
      " 9   connections          287 non-null    object \n",
      " 10  updated_at           287 non-null    object \n",
      "dtypes: float64(3), int64(1), object(7)\n",
      "memory usage: 24.8+ KB\n"
     ]
    }
   ],
   "source": [
    "df.info()"
   ]
  },
  {
   "cell_type": "code",
   "execution_count": null,
   "metadata": {},
   "outputs": [],
   "source": []
  }
 ],
 "metadata": {
  "kernelspec": {
   "display_name": ".venv",
   "language": "python",
   "name": "python3"
  },
  "language_info": {
   "codemirror_mode": {
    "name": "ipython",
    "version": 3
   },
   "file_extension": ".py",
   "mimetype": "text/x-python",
   "name": "python",
   "nbconvert_exporter": "python",
   "pygments_lexer": "ipython3",
   "version": "3.12.3"
  }
 },
 "nbformat": 4,
 "nbformat_minor": 2
}
